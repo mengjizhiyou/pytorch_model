{
  "nbformat": 4,
  "nbformat_minor": 0,
  "metadata": {
    "colab": {
      "name": "“Copy of Mayank_work.ipynb”的副本",
      "provenance": [],
      "collapsed_sections": []
    },
    "kernelspec": {
      "name": "python3",
      "display_name": "Python 3"
    },
    "accelerator": "GPU"
  },
  "cells": [
    {
      "cell_type": "code",
      "metadata": {
        "id": "SB4DjtLwIDkq"
      },
      "source": [
        "# doc https://mp.weixin.qq.com/s/Pq3WO3M6tnvvwWXoJ7XYDA\n",
        "# reference https://github.com/piyush-hurkat/3D-CNN-for-action-recognition\n",
        "# dataset https://www.csc.kth.se/cvap/actions/\n",
        "import os\n",
        "import matplotlib\n",
        "import matplotlib.pyplot as plt\n",
        "import numpy as np\n",
        "import pandas as pd\n",
        "import cv2\n",
        "from sklearn.model_selection import train_test_split,cross_validate\n",
        "from sklearn import preprocessing\n",
        "import tensorflow as tf\n",
        "from tensorflow.keras.preprocessing.image import ImageDataGenerator\n",
        "from tensorflow.keras import Sequential\n",
        "from tensorflow.keras.optimizers import SGD,RMSprop\n",
        "import theano\n",
        "from tensorflow.keras import Input,Model\n",
        "from tensorflow.keras.layers import Dense,Flatten,Conv3D,MaxPooling3D,Dropout,BatchNormalization,concatenate,Activation\n",
        "from tensorflow.keras.utils import to_categorical\n",
        "import h5py\n",
        "import tensorflow.keras.backend as tfback\n",
        "import keras\n",
        "\n",
        "tf.keras.backend.set_image_data_format('channels_first')\n"
      ],
      "execution_count": 1,
      "outputs": []
    },
    {
      "cell_type": "code",
      "source": [
        "tf.__version__, keras.__version__"
      ],
      "metadata": {
        "id": "8WbxIUURlMFC",
        "colab": {
          "base_uri": "https://localhost:8080/"
        },
        "outputId": "848452be-4f32-4ce8-b14e-fb81a8d879c3"
      },
      "execution_count": 2,
      "outputs": [
        {
          "output_type": "execute_result",
          "data": {
            "text/plain": [
              "('2.8.0', '2.8.0')"
            ]
          },
          "metadata": {},
          "execution_count": 2
        }
      ]
    },
    {
      "cell_type": "code",
      "source": [
        "path = \"/content/dataset/kth\"\n",
        "os.listdir(path)"
      ],
      "metadata": {
        "colab": {
          "base_uri": "https://localhost:8080/"
        },
        "id": "KUZ9-S8OhmVn",
        "outputId": "4e5059a6-622f-415e-edff-9715d65bc3dd"
      },
      "execution_count": 3,
      "outputs": [
        {
          "output_type": "execute_result",
          "data": {
            "text/plain": [
              "['handwaving',\n",
              " 'running.zip',\n",
              " 'boxing.zip',\n",
              " 'handclapping.zip',\n",
              " 'boxing',\n",
              " 'jogging.zip',\n",
              " 'walking.zip',\n",
              " 'running',\n",
              " 'handclapping',\n",
              " 'handwaving.zip',\n",
              " 'walking',\n",
              " 'jogging']"
            ]
          },
          "metadata": {},
          "execution_count": 3
        }
      ]
    },
    {
      "cell_type": "code",
      "metadata": {
        "id": "AMF3XWnhLBi4"
      },
      "source": [
        "# image specification\n",
        "img_rows,img_cols,img_depth=80,60,9\n",
        "# Training data\n",
        "X_tr=[]           # variable to store entire dataset"
      ],
      "execution_count": 4,
      "outputs": []
    },
    {
      "cell_type": "code",
      "metadata": {
        "id": "-iw-hr66Vdm4",
        "colab": {
          "base_uri": "https://localhost:8080/"
        },
        "outputId": "327ce8c7-e8e7-44ec-9516-22228ad1d52f"
      },
      "source": [
        "folders = os.listdir(path)\n",
        "for folder in folders:\n",
        "  if 'zip' not in folder:\n",
        "    filepath = os.path.join(path, folder)\n",
        "    files = os.listdir(filepath)\n",
        "    print(len(files))"
      ],
      "execution_count": 5,
      "outputs": [
        {
          "output_type": "stream",
          "name": "stdout",
          "text": [
            "100\n",
            "100\n",
            "100\n",
            "99\n",
            "100\n",
            "100\n"
          ]
        }
      ]
    },
    {
      "cell_type": "code",
      "metadata": {
        "id": "2Bbl8pf-P-0d",
        "colab": {
          "base_uri": "https://localhost:8080/"
        },
        "outputId": "3cdce44e-a9a1-4a28-c303-7e77d6cd4b0d"
      },
      "source": [
        "path = \"/content/dataset/kth\"\n",
        "folders = os.listdir(path)\n",
        "for folder in folders:\n",
        "  if 'zip' not in folder:\n",
        "    filepath = os.path.join(path, folder)\n",
        "    files = os.listdir(filepath)\n",
        "    for file in files:\n",
        "      vid = os.path.join(path, folder, file)\n",
        "      frames1 = []\n",
        "      frames2 = []\n",
        "      frames3 = []\n",
        "      optflow = np.zeros((img_depth-1, img_rows, img_cols, 2))\n",
        "      optflow_x = np.zeros((img_depth-1, img_rows, img_cols, 2))\n",
        "      optflow_y = np.zeros((img_depth-1, img_rows, img_cols, 2))\n",
        "      cap = cv2.VideoCapture(vid)\n",
        "      fps = cap.get(5)\n",
        "      # print (\"Frames per second using video.get(cv2.cv.CV_CAP_PROP_FPS): {0}\".format(fps))\n",
        "      for k in range(img_depth):\n",
        "          ret, frame = cap.read()\n",
        "          frame=cv2.resize(frame,(img_rows,img_cols),interpolation=cv2.INTER_AREA)\n",
        "          gray = cv2.cvtColor(frame, cv2.COLOR_BGR2GRAY)\n",
        "          gradient_x = cv2.Sobel(gray,cv2.CV_64F,1,0,ksize=5)\n",
        "          gradient_y = cv2.Sobel(gray,cv2.CV_64F,0,1,ksize=5)\n",
        "          if k+1<img_depth:\n",
        "            optflow[k] = cv2.calcOpticalFlowFarneback(gray[k],gray[k+1], None, 0.5, 3, 15, 3, 5, 1.2, 0)\n",
        "          \n",
        "          frames1.append(gray)\n",
        "          frames2.append(gradient_x)\n",
        "          frames3.append(gradient_y)\n",
        "          # plt.imshow(gray, cmap = plt.get_cmap('gray'))\n",
        "          # plt.xticks([]), plt.yticks([])  # to hide tick values on X and Y axis\n",
        "          # plt.show()\n",
        "          # cv2.imshow('frame',gray)\n",
        "        \n",
        "\n",
        "          if cv2.waitKey(1) & 0xFF == ord('q'):\n",
        "              break\n",
        "      cap.release()\n",
        "      cv2.destroyAllWindows()\n",
        "      \n",
        "      optflow_x = cv2.normalize(optflow[...,0], None, 0, 255, cv2.NORM_MINMAX) \n",
        "      optflow_x = optflow_x.astype('uint8')  \n",
        "      optflow_y = cv2.normalize(optflow[...,1], None, 0, 255, cv2.NORM_MINMAX)\n",
        "      optflow_y = optflow_y.astype('uint8')\n",
        "      f1=np.array(frames1)\n",
        "      f2=np.array(frames2)\n",
        "      f3=np.array(frames3)\n",
        "      f4=np.array(optflow_x)\n",
        "      f5=np.array(optflow_y)\n",
        "      f4=np.reshape(f4,(img_depth-1,img_cols,img_rows))\n",
        "      f5=np.reshape(f5,(img_depth-1,img_cols,img_rows))\n",
        "\n",
        "      concat=np.concatenate((f1,f2,f3,f4,f5))\n",
        "      input=np.array(concat)\n",
        "      # print (input.shape)\n",
        "      ipt=np.rollaxis(np.rollaxis(input,2,0),2,0)\n",
        "      # print (ipt.shape)\n",
        "\n",
        "      X_tr.append(ipt)\n",
        "\n",
        "print(len(X_tr))\n"
      ],
      "execution_count": 6,
      "outputs": [
        {
          "output_type": "stream",
          "name": "stdout",
          "text": [
            "599\n"
          ]
        }
      ]
    },
    {
      "cell_type": "code",
      "metadata": {
        "id": "_ylup3dKUmM2",
        "outputId": "daf95de7-3cf7-47e0-9436-7a917a74eb72",
        "colab": {
          "base_uri": "https://localhost:8080/"
        }
      },
      "source": [
        "X_tr_array = np.array(X_tr) # convert the frames read into array\n",
        "X_tr_array = np.reshape(X_tr_array,(599,80,60,43))\n",
        "X_tr_array.shape"
      ],
      "execution_count": 7,
      "outputs": [
        {
          "output_type": "execute_result",
          "data": {
            "text/plain": [
              "(599, 80, 60, 43)"
            ]
          },
          "metadata": {},
          "execution_count": 7
        }
      ]
    },
    {
      "cell_type": "code",
      "metadata": {
        "id": "6psK73TOY2D0"
      },
      "source": [
        "#Assign Label to each class\n",
        "num_samples = len(X_tr_array)\n",
        "label=np.ones((num_samples,),dtype = int)\n",
        "label[0:100]= 0\n",
        "label[100:200] = 1\n",
        "label[200:300] = 2\n",
        "label[300:400] = 3\n",
        "label[400:499]= 4\n",
        "label[499:] = 5"
      ],
      "execution_count": 8,
      "outputs": []
    },
    {
      "cell_type": "code",
      "metadata": {
        "id": "h19-xIvPtVhc",
        "outputId": "4ae5670e-d84c-43a3-b4c8-69e572a7befa",
        "colab": {
          "base_uri": "https://localhost:8080/"
        }
      },
      "source": [
        "# 创建数据集\n",
        "train_data = [X_tr_array,label]\n",
        "(X_train, y_train) = (train_data[0],train_data[1])\n",
        "print('X_Train shape:', X_train.shape)\n",
        "\n",
        "train_set = np.zeros((num_samples, 1, img_rows,img_cols,43)) # 定义单通道\n",
        "\n",
        "for h in range(num_samples):\n",
        "  train_set[h][0][:][:][:]=X_train[h,:,:,:]\n",
        " \n",
        "\n",
        "patch_size = 43    # img_depth or number of frames used for each video\n",
        "\n",
        "print(train_set.shape, 'train samples')\n",
        "\n",
        "# CNN Training parameters\n",
        "\n",
        "batch_size = 2\n",
        "nb_classes =6 \n",
        "nb_epoch =50\n",
        "\n",
        "# convert class vectors to binary class matrices\n",
        "Y_train = to_categorical(y_train, nb_classes)\n",
        "\n",
        "'''\n",
        "# number of convolutional filters to use at each layer\n",
        "nb_filters = [32, 32]\n",
        "\n",
        "# level of pooling to perform at each layer (POOL x POOL)\n",
        "nb_pool = [3, 3]\n",
        "\n",
        "# level of convolution to perform at each layer (CONV x CONV)\n",
        "nb_conv = [5,5]\n",
        "'''\n",
        "# Pre-processing\n",
        "\n",
        "train_set = train_set.astype('float32')\n",
        "\n",
        "train_set -= np.mean(train_set)\n",
        "\n",
        "train_set /=np.max(train_set)\n"
      ],
      "execution_count": 9,
      "outputs": [
        {
          "output_type": "stream",
          "name": "stdout",
          "text": [
            "X_Train shape: (599, 80, 60, 43)\n",
            "(599, 1, 80, 60, 43) train samples\n"
          ]
        }
      ]
    },
    {
      "cell_type": "code",
      "metadata": {
        "id": "iZeY_BpgreLe"
      },
      "source": [
        "def _get_available_gpus():\n",
        "    \"\"\"Get a list of available gpu devices (formatted as strings).\n",
        "\n",
        "    # Returns\n",
        "        A list of available GPU devices.\n",
        "    \"\"\"\n",
        "    #global _LOCAL_DEVICES\n",
        "\n",
        "    devices = tf.config.list_logical_devices()\n",
        "    tfback._LOCAL_DEVICES = [x.name for x in devices]\n",
        "    return [x for x in tfback._LOCAL_DEVICES if 'device:gpu' in x.lower()]\n"
      ],
      "execution_count": 10,
      "outputs": []
    },
    {
      "cell_type": "code",
      "metadata": {
        "id": "_mkwV-M4rj4c",
        "outputId": "175bbdf1-3c75-4273-e68e-139c36117c02",
        "colab": {
          "base_uri": "https://localhost:8080/"
        }
      },
      "source": [
        "tfback._get_available_gpus = _get_available_gpus\n",
        "tfback._get_available_gpus()"
      ],
      "execution_count": 11,
      "outputs": [
        {
          "output_type": "execute_result",
          "data": {
            "text/plain": [
              "['/device:GPU:0']"
            ]
          },
          "metadata": {},
          "execution_count": 11
        }
      ]
    },
    {
      "cell_type": "code",
      "metadata": {
        "id": "sDW7mp-drkYr",
        "outputId": "2447a8f6-c74b-43de-cdb0-ecbe4764fb47",
        "colab": {
          "base_uri": "https://localhost:8080/"
        }
      },
      "source": [
        "tf.config.list_logical_devices()"
      ],
      "execution_count": 12,
      "outputs": [
        {
          "output_type": "execute_result",
          "data": {
            "text/plain": [
              "[LogicalDevice(name='/device:CPU:0', device_type='CPU'),\n",
              " LogicalDevice(name='/device:GPU:0', device_type='GPU')]"
            ]
          },
          "metadata": {},
          "execution_count": 12
        }
      ]
    },
    {
      "cell_type": "code",
      "metadata": {
        "id": "Q2wscChw7Xpi"
      },
      "source": [
        "# Define model\n",
        "\n",
        "model = Sequential()\n",
        "\n",
        "model.add(Conv3D(8, (9, 7, 3),input_shape=(1, img_rows, img_cols, 43), activation='relu'))\n",
        "model.add(MaxPooling3D(pool_size=(3, 3, 1)))\n",
        "model.add(BatchNormalization(center=True, scale=True))\n",
        "model.add(Dropout(0.5))\n",
        "\n",
        "model.add(Conv3D(16, (7, 7, 3),input_shape=(1, img_rows, img_cols, 43), activation='relu'))\n",
        "model.add(MaxPooling3D(pool_size=(3, 3,1)))\n",
        "model.add(BatchNormalization(center=True, scale=True))\n",
        "model.add(Dropout(0.5))\n",
        "\n",
        "model.add(Conv3D(32, (6, 4, 1),input_shape=(1, img_rows, img_cols, 43), activation='relu'))\n",
        "model.add(BatchNormalization(center=True, scale=True))\n",
        "model.add(Dropout(0.5))\n",
        "model.add(Flatten())\n",
        "#model.add(Dense(256, activation='relu', kernel_initializer='he_uniform'))\n",
        "model.add(Dense(nb_classes, kernel_initializer='normal'))\n",
        "model.add(Activation('softmax'))\n",
        "\n",
        "model.compile(loss='categorical_crossentropy', optimizer='RMSprop', metrics=['accuracy'])\n"
      ],
      "execution_count": 13,
      "outputs": []
    },
    {
      "cell_type": "code",
      "metadata": {
        "id": "fgSQ7VJEogcI"
      },
      "source": [
        "#model.compile(loss='categorical_crossentropy', optimizer='RMSprop', metrics=['accuracy'])\n",
        "\n",
        "# Split the data\n",
        "\n",
        "X_train_new, X_val_new, y_train_new,y_val_new =  train_test_split(train_set, Y_train, test_size=0.2, random_state=4)\n",
        "\n"
      ],
      "execution_count": 14,
      "outputs": []
    },
    {
      "cell_type": "code",
      "metadata": {
        "id": "5YEWCt-G3lc0",
        "outputId": "fca0489b-fa25-41ee-977c-d50f2769924c",
        "colab": {
          "base_uri": "https://localhost:8080/"
        }
      },
      "source": [
        "hist = model.fit(X_train_new, y_train_new, validation_data=(X_val_new,y_val_new),batch_size=batch_size,epochs = nb_epoch,shuffle=True)"
      ],
      "execution_count": 15,
      "outputs": [
        {
          "output_type": "stream",
          "name": "stdout",
          "text": [
            "Epoch 1/50\n",
            "240/240 [==============================] - 21s 40ms/step - loss: 2.6364 - accuracy: 0.3069 - val_loss: 1.6715 - val_accuracy: 0.3083\n",
            "Epoch 2/50\n",
            "240/240 [==============================] - 9s 38ms/step - loss: 1.9638 - accuracy: 0.4301 - val_loss: 1.0484 - val_accuracy: 0.4583\n",
            "Epoch 3/50\n",
            "240/240 [==============================] - 9s 38ms/step - loss: 1.7775 - accuracy: 0.4489 - val_loss: 1.3015 - val_accuracy: 0.5500\n",
            "Epoch 4/50\n",
            "240/240 [==============================] - 9s 37ms/step - loss: 1.6467 - accuracy: 0.4614 - val_loss: 1.1980 - val_accuracy: 0.4667\n",
            "Epoch 5/50\n",
            "240/240 [==============================] - 9s 38ms/step - loss: 1.4652 - accuracy: 0.5073 - val_loss: 1.1564 - val_accuracy: 0.4833\n",
            "Epoch 6/50\n",
            "240/240 [==============================] - 9s 37ms/step - loss: 1.2638 - accuracy: 0.5240 - val_loss: 0.9242 - val_accuracy: 0.6167\n",
            "Epoch 7/50\n",
            "240/240 [==============================] - 9s 39ms/step - loss: 1.2080 - accuracy: 0.5136 - val_loss: 1.2014 - val_accuracy: 0.5250\n",
            "Epoch 8/50\n",
            "240/240 [==============================] - 10s 40ms/step - loss: 0.9751 - accuracy: 0.6221 - val_loss: 1.0778 - val_accuracy: 0.5750\n",
            "Epoch 9/50\n",
            "240/240 [==============================] - 9s 38ms/step - loss: 1.0191 - accuracy: 0.5950 - val_loss: 0.8205 - val_accuracy: 0.6833\n",
            "Epoch 10/50\n",
            "240/240 [==============================] - 9s 37ms/step - loss: 0.8455 - accuracy: 0.6660 - val_loss: 0.8715 - val_accuracy: 0.6167\n",
            "Epoch 11/50\n",
            "240/240 [==============================] - 9s 37ms/step - loss: 0.8588 - accuracy: 0.6367 - val_loss: 0.7897 - val_accuracy: 0.7250\n",
            "Epoch 12/50\n",
            "240/240 [==============================] - 9s 37ms/step - loss: 0.7948 - accuracy: 0.6472 - val_loss: 0.8241 - val_accuracy: 0.6333\n",
            "Epoch 13/50\n",
            "240/240 [==============================] - 9s 37ms/step - loss: 0.7640 - accuracy: 0.6660 - val_loss: 0.9365 - val_accuracy: 0.6667\n",
            "Epoch 14/50\n",
            "240/240 [==============================] - 9s 37ms/step - loss: 0.6738 - accuracy: 0.7182 - val_loss: 0.8132 - val_accuracy: 0.6917\n",
            "Epoch 15/50\n",
            "240/240 [==============================] - 9s 37ms/step - loss: 0.7299 - accuracy: 0.6827 - val_loss: 0.7638 - val_accuracy: 0.6917\n",
            "Epoch 16/50\n",
            "240/240 [==============================] - 9s 37ms/step - loss: 0.6432 - accuracy: 0.7244 - val_loss: 0.8764 - val_accuracy: 0.6417\n",
            "Epoch 17/50\n",
            "240/240 [==============================] - 9s 38ms/step - loss: 0.6411 - accuracy: 0.7140 - val_loss: 0.8293 - val_accuracy: 0.7333\n",
            "Epoch 18/50\n",
            "240/240 [==============================] - 9s 37ms/step - loss: 0.5727 - accuracy: 0.7474 - val_loss: 0.8371 - val_accuracy: 0.7167\n",
            "Epoch 19/50\n",
            "240/240 [==============================] - 9s 37ms/step - loss: 0.5748 - accuracy: 0.7683 - val_loss: 0.9180 - val_accuracy: 0.6083\n",
            "Epoch 20/50\n",
            "240/240 [==============================] - 9s 37ms/step - loss: 0.5743 - accuracy: 0.7411 - val_loss: 1.0133 - val_accuracy: 0.6333\n",
            "Epoch 21/50\n",
            "240/240 [==============================] - 9s 38ms/step - loss: 0.5197 - accuracy: 0.7724 - val_loss: 1.0148 - val_accuracy: 0.7167\n",
            "Epoch 22/50\n",
            "240/240 [==============================] - 9s 37ms/step - loss: 0.5077 - accuracy: 0.7871 - val_loss: 0.9059 - val_accuracy: 0.6500\n",
            "Epoch 23/50\n",
            "240/240 [==============================] - 9s 38ms/step - loss: 0.5464 - accuracy: 0.7599 - val_loss: 0.9544 - val_accuracy: 0.6500\n",
            "Epoch 24/50\n",
            "240/240 [==============================] - 9s 37ms/step - loss: 0.4919 - accuracy: 0.7912 - val_loss: 1.0572 - val_accuracy: 0.6667\n",
            "Epoch 25/50\n",
            "240/240 [==============================] - 9s 38ms/step - loss: 0.4564 - accuracy: 0.8017 - val_loss: 1.0180 - val_accuracy: 0.7000\n",
            "Epoch 26/50\n",
            "240/240 [==============================] - 9s 38ms/step - loss: 0.4471 - accuracy: 0.8142 - val_loss: 1.3898 - val_accuracy: 0.5833\n",
            "Epoch 27/50\n",
            "240/240 [==============================] - 9s 38ms/step - loss: 0.4374 - accuracy: 0.8017 - val_loss: 1.0362 - val_accuracy: 0.6333\n",
            "Epoch 28/50\n",
            "240/240 [==============================] - 9s 37ms/step - loss: 0.4357 - accuracy: 0.8330 - val_loss: 1.1340 - val_accuracy: 0.6333\n",
            "Epoch 29/50\n",
            "240/240 [==============================] - 9s 37ms/step - loss: 0.3667 - accuracy: 0.8330 - val_loss: 1.1379 - val_accuracy: 0.6583\n",
            "Epoch 30/50\n",
            "240/240 [==============================] - 9s 37ms/step - loss: 0.4120 - accuracy: 0.8309 - val_loss: 1.1827 - val_accuracy: 0.6333\n",
            "Epoch 31/50\n",
            "240/240 [==============================] - 9s 37ms/step - loss: 0.4598 - accuracy: 0.8121 - val_loss: 1.0316 - val_accuracy: 0.6333\n",
            "Epoch 32/50\n",
            "240/240 [==============================] - 9s 37ms/step - loss: 0.3695 - accuracy: 0.8643 - val_loss: 1.0828 - val_accuracy: 0.6833\n",
            "Epoch 33/50\n",
            "240/240 [==============================] - 9s 38ms/step - loss: 0.3866 - accuracy: 0.8559 - val_loss: 1.0595 - val_accuracy: 0.7000\n",
            "Epoch 34/50\n",
            "240/240 [==============================] - 9s 37ms/step - loss: 0.3557 - accuracy: 0.8434 - val_loss: 1.1064 - val_accuracy: 0.7000\n",
            "Epoch 35/50\n",
            "240/240 [==============================] - 9s 37ms/step - loss: 0.3487 - accuracy: 0.8434 - val_loss: 1.2286 - val_accuracy: 0.6750\n",
            "Epoch 36/50\n",
            "240/240 [==============================] - 9s 37ms/step - loss: 0.3691 - accuracy: 0.8559 - val_loss: 1.2075 - val_accuracy: 0.7167\n",
            "Epoch 37/50\n",
            "240/240 [==============================] - 9s 38ms/step - loss: 0.3371 - accuracy: 0.8622 - val_loss: 1.3652 - val_accuracy: 0.6083\n",
            "Epoch 38/50\n",
            "240/240 [==============================] - 9s 37ms/step - loss: 0.3274 - accuracy: 0.8706 - val_loss: 1.0786 - val_accuracy: 0.7000\n",
            "Epoch 39/50\n",
            "240/240 [==============================] - 9s 37ms/step - loss: 0.3354 - accuracy: 0.8810 - val_loss: 1.2021 - val_accuracy: 0.7083\n",
            "Epoch 40/50\n",
            "240/240 [==============================] - 9s 37ms/step - loss: 0.3515 - accuracy: 0.8789 - val_loss: 1.4495 - val_accuracy: 0.7000\n",
            "Epoch 41/50\n",
            "240/240 [==============================] - 9s 38ms/step - loss: 0.3193 - accuracy: 0.8914 - val_loss: 1.2701 - val_accuracy: 0.7000\n",
            "Epoch 42/50\n",
            "240/240 [==============================] - 9s 37ms/step - loss: 0.2733 - accuracy: 0.8894 - val_loss: 1.5327 - val_accuracy: 0.6583\n",
            "Epoch 43/50\n",
            "240/240 [==============================] - 9s 38ms/step - loss: 0.3036 - accuracy: 0.8852 - val_loss: 1.2739 - val_accuracy: 0.6333\n",
            "Epoch 44/50\n",
            "240/240 [==============================] - 9s 38ms/step - loss: 0.2678 - accuracy: 0.8956 - val_loss: 1.4175 - val_accuracy: 0.6750\n",
            "Epoch 45/50\n",
            "240/240 [==============================] - 9s 38ms/step - loss: 0.2623 - accuracy: 0.8998 - val_loss: 1.6812 - val_accuracy: 0.6500\n",
            "Epoch 46/50\n",
            "240/240 [==============================] - 9s 37ms/step - loss: 0.3111 - accuracy: 0.8873 - val_loss: 1.5259 - val_accuracy: 0.6500\n",
            "Epoch 47/50\n",
            "240/240 [==============================] - 9s 38ms/step - loss: 0.2478 - accuracy: 0.9040 - val_loss: 1.3833 - val_accuracy: 0.6833\n",
            "Epoch 48/50\n",
            "240/240 [==============================] - 9s 37ms/step - loss: 0.2651 - accuracy: 0.9102 - val_loss: 1.4214 - val_accuracy: 0.7000\n",
            "Epoch 49/50\n",
            "240/240 [==============================] - 9s 38ms/step - loss: 0.2618 - accuracy: 0.9081 - val_loss: 1.6894 - val_accuracy: 0.6333\n",
            "Epoch 50/50\n",
            "240/240 [==============================] - 9s 37ms/step - loss: 0.2253 - accuracy: 0.9207 - val_loss: 1.6404 - val_accuracy: 0.7083\n"
          ]
        }
      ]
    },
    {
      "cell_type": "code",
      "metadata": {
        "id": "iSYK6pl63fj7",
        "outputId": "647e1b8d-1f87-411b-ad6d-b08a48072e9b",
        "colab": {
          "base_uri": "https://localhost:8080/",
          "height": 885
        }
      },
      "source": [
        "\n",
        "\n",
        "\n",
        "#hist = model.fit(train_set, Y_train, batch_size=batch_size,\n",
        "#         nb_epoch=nb_epoch,validation_split=0.2, show_accuracy=True,\n",
        "#           shuffle=True)\n",
        "#batch_size=32\n",
        "#nb_epoch=120\n",
        " # Evaluate the model\n",
        "score = model.evaluate(X_val_new, y_val_new, batch_size=batch_size)\n",
        "print('Test score:', score[0])\n",
        "print('Test accuracy:', score[1])\n",
        "\n",
        "\n",
        "# Plot the results\n",
        "train_loss=hist.history['loss']\n",
        "val_loss=hist.history['val_loss']\n",
        "train_acc=hist.history['accuracy']\n",
        "val_acc=hist.history['val_accuracy']\n",
        "xc=range(nb_epoch)\n",
        "\n",
        "plt.figure(1,figsize=(7,5))\n",
        "plt.plot(xc,train_loss)\n",
        "plt.plot(xc,val_loss)\n",
        "plt.xlabel('num of Epochs')\n",
        "plt.ylabel('loss')\n",
        "plt.title('train_loss vs val_loss')\n",
        "plt.grid(True)\n",
        "plt.legend(['train','val'])\n",
        "print (plt.style.available) # use bmh, classic,ggplot for big pictures\n",
        "plt.style.use(['classic'])\n",
        "\n",
        "plt.figure(2,figsize=(7,5))\n",
        "plt.plot(xc,train_acc)\n",
        "plt.plot(xc,val_acc)\n",
        "plt.xlabel('num of Epochs')\n",
        "plt.ylabel('accuracy')\n",
        "plt.title('train_acc vs val_acc')\n",
        "plt.grid(True)\n",
        "plt.legend(['train','val'],loc=4)\n",
        "#print plt.style.available # use bmh, classic,ggplot for big pictures\n",
        "plt.style.use(['classic']) "
      ],
      "execution_count": 17,
      "outputs": [
        {
          "output_type": "stream",
          "name": "stdout",
          "text": [
            "60/60 [==============================] - 1s 16ms/step - loss: 1.6404 - accuracy: 0.7083\n",
            "Test score: 1.640383005142212\n",
            "Test accuracy: 0.7083333134651184\n",
            "['Solarize_Light2', '_classic_test_patch', 'bmh', 'classic', 'dark_background', 'fast', 'fivethirtyeight', 'ggplot', 'grayscale', 'seaborn', 'seaborn-bright', 'seaborn-colorblind', 'seaborn-dark', 'seaborn-dark-palette', 'seaborn-darkgrid', 'seaborn-deep', 'seaborn-muted', 'seaborn-notebook', 'seaborn-paper', 'seaborn-pastel', 'seaborn-poster', 'seaborn-talk', 'seaborn-ticks', 'seaborn-white', 'seaborn-whitegrid', 'tableau-colorblind10']\n"
          ]
        },
        {
          "output_type": "display_data",
          "data": {
            "image/png": "[encoded data removed]",
            "text/plain": [
              "<Figure size 560x400 with 1 Axes>"
            ]
          },
          "metadata": {}
        },
        {
          "output_type": "display_data",
          "data": {
            "image/png": "[encoded data removed]",
            "text/plain": [
              "<Figure size 560x400 with 1 Axes>"
            ]
          },
          "metadata": {}
        }
      ]
    }
  ]
}
