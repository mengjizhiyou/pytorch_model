{
 "cells": [
  {
   "cell_type": "markdown",
   "id": "a4d0bdfc",
   "metadata": {},
   "source": [
    "# PYGT 自定义数据集与简单建模"
   ]
  },
  {
   "cell_type": "markdown",
   "id": "5941d200",
   "metadata": {},
   "source": [
    "## 创建时序数据\n",
    "共5个节点，每个节点的时序长度为200，以天为单位"
   ]
  },
  {
   "cell_type": "code",
   "execution_count": 1,
   "id": "b4946092",
   "metadata": {},
   "outputs": [],
   "source": [
    "import os\n",
    "import torch\n",
    "from torch_geometric.utils import dense_to_sparse\n",
    "from torch_geometric_temporal.signal import StaticGraphTemporalSignal\n",
    "import pandas as pd\n",
    "import numpy as np\n",
    "from torch_geometric_temporal.nn.recurrent import A3TGCN2\n",
    "import torch.nn.functional as F\n",
    "from torch_geometric_temporal.signal import temporal_signal_split"
   ]
  },
  {
   "cell_type": "code",
   "execution_count": 2,
   "id": "2685fe95",
   "metadata": {},
   "outputs": [],
   "source": [
    "node_dim=5\n",
    "df = pd.DataFrame(np.arange(1000).reshape(-1, 5), index=pd.date_range('2021-1-1', periods=200, freq='1D'))"
   ]
  },
  {
   "cell_type": "code",
   "execution_count": 3,
   "id": "4bb751e1",
   "metadata": {},
   "outputs": [
    {
     "data": {
      "text/html": [
       "<div>\n",
       "<style scoped>\n",
       "    .dataframe tbody tr th:only-of-type {\n",
       "        vertical-align: middle;\n",
       "    }\n",
       "\n",
       "    .dataframe tbody tr th {\n",
       "        vertical-align: top;\n",
       "    }\n",
       "\n",
       "    .dataframe thead th {\n",
       "        text-align: right;\n",
       "    }\n",
       "</style>\n",
       "<table border=\"1\" class=\"dataframe\">\n",
       "  <thead>\n",
       "    <tr style=\"text-align: right;\">\n",
       "      <th></th>\n",
       "      <th>0</th>\n",
       "      <th>1</th>\n",
       "      <th>2</th>\n",
       "      <th>3</th>\n",
       "      <th>4</th>\n",
       "    </tr>\n",
       "  </thead>\n",
       "  <tbody>\n",
       "    <tr>\n",
       "      <th>2021-01-01</th>\n",
       "      <td>0</td>\n",
       "      <td>1</td>\n",
       "      <td>2</td>\n",
       "      <td>3</td>\n",
       "      <td>4</td>\n",
       "    </tr>\n",
       "    <tr>\n",
       "      <th>2021-01-02</th>\n",
       "      <td>5</td>\n",
       "      <td>6</td>\n",
       "      <td>7</td>\n",
       "      <td>8</td>\n",
       "      <td>9</td>\n",
       "    </tr>\n",
       "    <tr>\n",
       "      <th>2021-01-03</th>\n",
       "      <td>10</td>\n",
       "      <td>11</td>\n",
       "      <td>12</td>\n",
       "      <td>13</td>\n",
       "      <td>14</td>\n",
       "    </tr>\n",
       "    <tr>\n",
       "      <th>2021-01-04</th>\n",
       "      <td>15</td>\n",
       "      <td>16</td>\n",
       "      <td>17</td>\n",
       "      <td>18</td>\n",
       "      <td>19</td>\n",
       "    </tr>\n",
       "    <tr>\n",
       "      <th>2021-01-05</th>\n",
       "      <td>20</td>\n",
       "      <td>21</td>\n",
       "      <td>22</td>\n",
       "      <td>23</td>\n",
       "      <td>24</td>\n",
       "    </tr>\n",
       "  </tbody>\n",
       "</table>\n",
       "</div>"
      ],
      "text/plain": [
       "             0   1   2   3   4\n",
       "2021-01-01   0   1   2   3   4\n",
       "2021-01-02   5   6   7   8   9\n",
       "2021-01-03  10  11  12  13  14\n",
       "2021-01-04  15  16  17  18  19\n",
       "2021-01-05  20  21  22  23  24"
      ]
     },
     "execution_count": 3,
     "metadata": {},
     "output_type": "execute_result"
    }
   ],
   "source": [
    "df.head()"
   ]
  },
  {
   "cell_type": "code",
   "execution_count": 4,
   "id": "0bf47607",
   "metadata": {},
   "outputs": [],
   "source": [
    "df['day'] =df.index.day # 创建特征"
   ]
  },
  {
   "cell_type": "markdown",
   "id": "5f963214",
   "metadata": {},
   "source": [
    "## 将时序数据转换为固定的格式\n",
    "(T，N)--->(T,N,1),T 表示时间，N 表示节点数， 1 表示特征纬度\n",
    "\n",
    "除了节点处的值，时序数据还会有一些其他特征，比如天、小时等XXXXX\n",
    "\n",
    "这时，将每个特征重复 N 次，连接到 (T,N,1)，此时 (T,N,1)---->(T,N,F) F 表示特征纬度"
   ]
  },
  {
   "cell_type": "code",
   "execution_count": 5,
   "id": "1f520f55",
   "metadata": {},
   "outputs": [],
   "source": [
    "def create_node(df, node_num, svpath='./', name='node_values'):\n",
    "    #\n",
    "    node_name = df.columns[:node_num]\n",
    "    assert len(node_name) == node_num\n",
    "    values = df.iloc[:, :node_num].values.reshape(-1, node_num, 1)  #  (T，N)--->(T,N,1)\n",
    "\n",
    "    for feature in df.columns[node_num:]:  #  (T,N,1)---->(T,N,F)\n",
    "        features = df[feature].repeat(node_num).values.reshape(-1, node_num, 1)\n",
    "        values = np.concatenate([values, features], axis=-1)\n",
    "\n",
    "    np.save(f\"{svpath}/{name}.npy\", values)"
   ]
  },
  {
   "cell_type": "code",
   "execution_count": 6,
   "id": "f7c019d6",
   "metadata": {},
   "outputs": [],
   "source": [
    "create_node(df,node_dim)"
   ]
  },
  {
   "cell_type": "code",
   "execution_count": 7,
   "id": "94b868bb",
   "metadata": {},
   "outputs": [],
   "source": [
    "node_value = np.load('./node_values.npy')"
   ]
  },
  {
   "cell_type": "code",
   "execution_count": 8,
   "id": "4d7ecdd2",
   "metadata": {},
   "outputs": [
    {
     "data": {
      "text/plain": [
       "(200, 5, 2)"
      ]
     },
     "execution_count": 8,
     "metadata": {},
     "output_type": "execute_result"
    }
   ],
   "source": [
    "node_value.shape"
   ]
  },
  {
   "cell_type": "markdown",
   "id": "7b347741",
   "metadata": {},
   "source": [
    "## 创建预定义邻接矩阵 A\n",
    "这里直接创建了(N,N) 的全 1 矩阵。\n",
    "注意，这里 A 根据情况确定是否归一化。"
   ]
  },
  {
   "cell_type": "code",
   "execution_count": 9,
   "id": "5625893c",
   "metadata": {},
   "outputs": [],
   "source": [
    "def create_adj(node_num, svpath='./', name='adj_mat'):\n",
    "    \"\"\"可以用两个节点之间的距离作为权重，否则均为 1\"\"\"\n",
    "    adj = torch.from_numpy(np.ones((node_num, node_num)))\n",
    "    #   deg_inv_sqrt = adj.sum(dim=-1).clamp(min=1).pow(-0.5)\n",
    "    #   adj = deg_inv_sqrt.unsqueeze(-1) * adj * deg_inv_sqrt.unsqueeze(-2)\n",
    "    np.save(os.path.join(svpath, name), adj.numpy())"
   ]
  },
  {
   "cell_type": "code",
   "execution_count": 10,
   "id": "b6831783",
   "metadata": {},
   "outputs": [],
   "source": [
    "create_adj(node_dim)"
   ]
  },
  {
   "cell_type": "code",
   "execution_count": 11,
   "id": "d8f49a6c",
   "metadata": {},
   "outputs": [],
   "source": [
    "A = np.load('./adj_mat.npy')"
   ]
  },
  {
   "cell_type": "code",
   "execution_count": 12,
   "id": "aa74b23c",
   "metadata": {},
   "outputs": [
    {
     "data": {
      "text/plain": [
       "(5, 5)"
      ]
     },
     "execution_count": 12,
     "metadata": {},
     "output_type": "execute_result"
    }
   ],
   "source": [
    "A.shape"
   ]
  },
  {
   "cell_type": "markdown",
   "id": "5e6c1436",
   "metadata": {},
   "source": [
    "## 创建数据集\n",
    "_generate_task用来截取数据，截取过去某段时间的序列以及未来某段时间的序列，\n",
    "\n",
    "前者作为特征，后者作为目标。若目标为单元序列，记得截取相应列。\n",
    "\n",
    "StaticGraphTemporalSignal内置模型，用来生成数据迭代器"
   ]
  },
  {
   "cell_type": "code",
   "execution_count": 13,
   "id": "3361fd72",
   "metadata": {},
   "outputs": [],
   "source": [
    "class LoadDatasetLoader(object):\n",
    "    def __init__(self, raw_data_dir):\n",
    "        super(LoadDatasetLoader, self).__init__()\n",
    "        self.raw_data_dir = raw_data_dir\n",
    "        self._read_web_data()\n",
    "\n",
    "    def _read_web_data(self):\n",
    "        A = np.load(os.path.join(self.raw_data_dir, \"adj_mat.npy\"))\n",
    "        # (node_num,feature,sample)\n",
    "        \n",
    "        \"\"\"注意这里数据维度的转换\"\"\"\n",
    "        X = np.load(os.path.join(self.raw_data_dir, \"node_values.npy\")).transpose((1, 2, 0)) # (T,N,F)-->(N,F,T)\n",
    "        print(X.shape)\n",
    "        \n",
    "        X = X.astype(np.float32)\n",
    "\n",
    "        # Normalise as in DCRNN paper (via Z-Score Method)\n",
    "        means = np.mean(X, axis=(0, 2))\n",
    "        X = X - means.reshape(1, -1, 1)\n",
    "        stds = np.std(X, axis=(0, 2))\n",
    "        X = X / stds.reshape(1, -1, 1)\n",
    "\n",
    "        self.A = torch.from_numpy(A)\n",
    "        self.X = torch.from_numpy(X)\n",
    "\n",
    "    def _get_edges_and_weights(self):\n",
    "        edge_indices, values = dense_to_sparse(self.A)\n",
    "        edge_indices = edge_indices.numpy()\n",
    "        values = values.numpy()\n",
    "        self.edges = edge_indices\n",
    "        self.edge_weights = values\n",
    "\n",
    "    def _generate_task(self, num_timesteps_in: int = 12, num_timesteps_out: int = 12):\n",
    "        \"\"\"\n",
    "        (num_nodes, num_node_features, num_timesteps_in) -> (num_nodes, num_timesteps_out)\n",
    "\n",
    "        Args:\n",
    "            num_timesteps_in (int): number of timesteps the sequence model sees\n",
    "            num_timesteps_out (int): number of timesteps the sequence model has to predict\n",
    "        \"\"\"\n",
    "\n",
    "        indices = [\n",
    "            (i, i + (num_timesteps_in + num_timesteps_out))\n",
    "            for i in range(0, self.X.shape[2] - (num_timesteps_in + num_timesteps_out) + 1, 1)\n",
    "        ]\n",
    "\n",
    "        # Generate observations\n",
    "        features, target = [], []\n",
    "        for i, j in indices:\n",
    "            features.append((self.X[:, :, i: i + num_timesteps_in]).numpy())\n",
    "            target.append((self.X[:, 0, i + num_timesteps_in: j]).numpy())\n",
    "\n",
    "        self.features = features\n",
    "        self.targets = target\n",
    "\n",
    "    def get_dataset(self, num_timesteps_in: int = 12, num_timesteps_out: int = 12) -> StaticGraphTemporalSignal:\n",
    "        \"\"\"Returns data iterator for Load dataset as an instance of the\n",
    "        static graph temporal signal class.\n",
    "        \"\"\"\n",
    "        self._get_edges_and_weights()\n",
    "        self._generate_task(num_timesteps_in, num_timesteps_out)\n",
    "        dataset = StaticGraphTemporalSignal(self.edges, self.edge_weights, self.features, self.targets)\n",
    "        return dataset"
   ]
  },
  {
   "cell_type": "code",
   "execution_count": 14,
   "id": "d9eea7bc",
   "metadata": {},
   "outputs": [
    {
     "name": "stdout",
     "output_type": "stream",
     "text": [
      "(5, 2, 200)\n",
      "196\n"
     ]
    }
   ],
   "source": [
    "load = LoadDatasetLoader('./')\n",
    "dataset = load.get_dataset(num_timesteps_in=3, num_timesteps_out=2)\n",
    "\n",
    "\n",
    "print(len(dataset.features))"
   ]
  },
  {
   "cell_type": "markdown",
   "id": "142898a6",
   "metadata": {},
   "source": [
    "## 划分训练集/测试集"
   ]
  },
  {
   "cell_type": "code",
   "execution_count": 15,
   "id": "dba638ad",
   "metadata": {},
   "outputs": [
    {
     "name": "stdout",
     "output_type": "stream",
     "text": [
      "Number of train buckets:  137\n",
      "Number of test buckets:  59\n"
     ]
    }
   ],
   "source": [
    "train_dataset, test_dataset = temporal_signal_split(dataset, train_ratio=0.7)\n",
    "\n",
    "print(\"Number of train buckets: \", len(set(train_dataset)))\n",
    "print(\"Number of test buckets: \", len(set(test_dataset)))"
   ]
  },
  {
   "cell_type": "markdown",
   "id": "96e1e527",
   "metadata": {},
   "source": [
    "## 将Dataset转换为DataLoader"
   ]
  },
  {
   "cell_type": "code",
   "execution_count": 16,
   "id": "f01b1a7c",
   "metadata": {},
   "outputs": [],
   "source": [
    "DEVICE = torch.device('cpu') # cuda\n",
    "shuffle = True\n",
    "batch_size=4\n",
    "\n",
    "train_input = np.array(train_dataset.features) # (200, 5, 2, 3)\n",
    "train_target = np.array(train_dataset.targets) # (200, 5, 2)\n",
    "train_x_tensor = torch.from_numpy(train_input).type(torch.FloatTensor).to(DEVICE)  # (B, N, F, T)\n",
    "train_target_tensor = torch.from_numpy(train_target).type(torch.FloatTensor).to(DEVICE)  # (B, N, T)\n",
    "train_dataset_new = torch.utils.data.TensorDataset(train_x_tensor, train_target_tensor)\n",
    "train_loader = torch.utils.data.DataLoader(train_dataset_new, batch_size=batch_size, shuffle=shuffle,drop_last=True)\n",
    "\n",
    "test_input = np.array(test_dataset.features) # (, 5 ,2, 3)\n",
    "test_target = np.array(test_dataset.targets) # (, 5, 2)\n",
    "test_x_tensor = torch.from_numpy(test_input).type(torch.FloatTensor).to(DEVICE)  # (B, N, F, T)\n",
    "test_target_tensor = torch.from_numpy(test_target).type(torch.FloatTensor).to(DEVICE)  # (B, N, T)\n",
    "test_dataset_new = torch.utils.data.TensorDataset(test_x_tensor, test_target_tensor)\n",
    "test_loader = torch.utils.data.DataLoader(test_dataset_new, batch_size=batch_size, shuffle=False,drop_last=True)"
   ]
  },
  {
   "cell_type": "markdown",
   "id": "f488341e",
   "metadata": {},
   "source": [
    "## 构建模型"
   ]
  },
  {
   "cell_type": "code",
   "execution_count": 17,
   "id": "36e4ebad",
   "metadata": {},
   "outputs": [],
   "source": [
    "\n",
    "\"\"\"\n",
    "这里选了A3TGCN2模型\n",
    "\"\"\"\n",
    "\n",
    "class TemporalGNN(torch.nn.Module):\n",
    "    def __init__(self, node_features, out_channel, periods, batch_size):\n",
    "        super(TemporalGNN, self).__init__()\n",
    "        # Attention Temporal Graph Convolutional Cell\n",
    "        self.tgnn = A3TGCN2(in_channels=node_features,  out_channels=64, periods=periods, batch_size=batch_size)  # node_features=2, periods=3\n",
    "        # Equals single-shot prediction\n",
    "        self.linear = torch.nn.Linear(64, out_channel)\n",
    "\n",
    "    def forward(self, x, edge_index):\n",
    "        \"\"\"\n",
    "        x = Node features for T time steps\n",
    "        edge_index = Graph edge indices\n",
    "        \"\"\"\n",
    "        h = self.tgnn(x, edge_index) # x [b, 5, 2, 3]  returns h [b, 5, 64]\n",
    "        h = F.relu(h)\n",
    "        h = self.linear(h)\n",
    "        return h\n",
    "\n",
    "model = TemporalGNN(node_features=len(df.columns)-node_dim+1, out_channel=2, periods=3, batch_size=batch_size)"
   ]
  },
  {
   "cell_type": "code",
   "execution_count": 18,
   "id": "67017062",
   "metadata": {},
   "outputs": [
    {
     "name": "stdout",
     "output_type": "stream",
     "text": [
      "34\n"
     ]
    }
   ],
   "source": [
    "print(len(train_loader))"
   ]
  },
  {
   "cell_type": "markdown",
   "id": "ecd566f3",
   "metadata": {},
   "source": [
    "## 训练与测试"
   ]
  },
  {
   "cell_type": "code",
   "execution_count": 19,
   "id": "f3159bf6",
   "metadata": {},
   "outputs": [
    {
     "name": "stdout",
     "output_type": "stream",
     "text": [
      "Epoch 0 train RMSE: 0.5159\n",
      "Epoch 1 train RMSE: 0.1528\n",
      "Epoch 2 train RMSE: 0.0169\n",
      "Epoch 3 train RMSE: 0.0046\n",
      "Epoch 4 train RMSE: 0.0032\n",
      "Epoch 5 train RMSE: 0.0025\n",
      "Epoch 6 train RMSE: 0.0018\n",
      "Epoch 7 train RMSE: 0.0014\n",
      "Epoch 8 train RMSE: 0.0010\n",
      "Epoch 9 train RMSE: 0.0008\n",
      "Epoch 10 train RMSE: 0.0006\n",
      "Epoch 11 train RMSE: 0.0005\n",
      "Epoch 12 train RMSE: 0.0004\n",
      "Epoch 13 train RMSE: 0.0003\n",
      "Epoch 14 train RMSE: 0.0003\n",
      "Epoch 15 train RMSE: 0.0002\n",
      "Epoch 16 train RMSE: 0.0003\n",
      "Epoch 17 train RMSE: 0.0003\n",
      "Epoch 18 train RMSE: 0.0002\n",
      "Epoch 19 train RMSE: 0.0002\n",
      "Epoch 20 train RMSE: 0.0002\n",
      "Epoch 21 train RMSE: 0.0002\n",
      "Epoch 22 train RMSE: 0.0002\n",
      "Epoch 23 train RMSE: 0.0002\n",
      "Epoch 24 train RMSE: 0.0002\n",
      "Epoch 25 train RMSE: 0.0002\n",
      "Epoch 26 train RMSE: 0.0002\n",
      "Epoch 27 train RMSE: 0.0001\n",
      "Epoch 28 train RMSE: 0.0001\n",
      "Epoch 29 train RMSE: 0.0001\n",
      "Epoch 30 train RMSE: 0.0001\n",
      "Epoch 31 train RMSE: 0.0002\n",
      "Epoch 32 train RMSE: 0.0001\n",
      "Epoch 33 train RMSE: 0.0001\n",
      "Epoch 34 train RMSE: 0.0001\n",
      "Epoch 35 train RMSE: 0.0001\n",
      "Epoch 36 train RMSE: 0.0001\n",
      "Epoch 37 train RMSE: 0.0001\n",
      "Epoch 38 train RMSE: 0.0001\n",
      "Epoch 39 train RMSE: 0.0001\n",
      "Epoch 40 train RMSE: 0.0001\n",
      "Epoch 41 train RMSE: 0.0001\n",
      "Epoch 42 train RMSE: 0.0001\n",
      "Epoch 43 train RMSE: 0.0001\n",
      "Epoch 44 train RMSE: 0.0001\n",
      "Epoch 45 train RMSE: 0.0001\n",
      "Epoch 46 train RMSE: 0.0001\n",
      "Epoch 47 train RMSE: 0.0001\n",
      "Epoch 48 train RMSE: 0.0001\n",
      "Epoch 49 train RMSE: 0.0001\n",
      "Epoch 50 train RMSE: 0.0001\n",
      "Epoch 51 train RMSE: 0.0001\n",
      "Epoch 52 train RMSE: 0.0001\n",
      "Epoch 53 train RMSE: 0.0001\n",
      "Epoch 54 train RMSE: 0.0001\n",
      "Epoch 55 train RMSE: 0.0001\n",
      "Epoch 56 train RMSE: 0.0001\n",
      "Epoch 57 train RMSE: 0.0001\n",
      "Epoch 58 train RMSE: 0.0001\n",
      "Epoch 59 train RMSE: 0.0001\n",
      "Epoch 60 train RMSE: 0.0001\n",
      "Epoch 61 train RMSE: 0.0001\n",
      "Epoch 62 train RMSE: 0.0001\n",
      "Epoch 63 train RMSE: 0.0001\n",
      "Epoch 64 train RMSE: 0.0001\n",
      "Epoch 65 train RMSE: 0.0001\n",
      "Epoch 66 train RMSE: 0.0001\n",
      "Epoch 67 train RMSE: 0.0001\n",
      "Epoch 68 train RMSE: 0.0001\n",
      "Epoch 69 train RMSE: 0.0000\n",
      "Epoch 70 train RMSE: 0.0001\n",
      "Epoch 71 train RMSE: 0.0001\n",
      "Epoch 72 train RMSE: 0.0001\n",
      "Epoch 73 train RMSE: 0.0001\n",
      "Epoch 74 train RMSE: 0.0001\n",
      "Epoch 75 train RMSE: 0.0000\n",
      "Epoch 76 train RMSE: 0.0001\n",
      "Epoch 77 train RMSE: 0.0001\n",
      "Epoch 78 train RMSE: 0.0001\n",
      "Epoch 79 train RMSE: 0.0000\n",
      "Epoch 80 train RMSE: 0.0001\n",
      "Epoch 81 train RMSE: 0.0001\n",
      "Epoch 82 train RMSE: 0.0002\n",
      "Epoch 83 train RMSE: 0.0001\n",
      "Epoch 84 train RMSE: 0.0001\n",
      "Epoch 85 train RMSE: 0.0001\n",
      "Epoch 86 train RMSE: 0.0002\n",
      "Epoch 87 train RMSE: 0.0002\n",
      "Epoch 88 train RMSE: 0.0001\n",
      "Epoch 89 train RMSE: 0.0001\n",
      "Epoch 90 train RMSE: 0.0001\n",
      "Epoch 91 train RMSE: 0.0001\n",
      "Epoch 92 train RMSE: 0.0001\n",
      "Epoch 93 train RMSE: 0.0001\n",
      "Epoch 94 train RMSE: 0.0001\n",
      "Epoch 95 train RMSE: 0.0001\n",
      "Epoch 96 train RMSE: 0.0000\n",
      "Epoch 97 train RMSE: 0.0000\n",
      "Epoch 98 train RMSE: 0.0001\n",
      "Epoch 99 train RMSE: 0.0001\n",
      "Test MSE: 0.0072\n"
     ]
    }
   ],
   "source": [
    "optimizer = torch.optim.Adam(model.parameters(), lr=0.001)\n",
    "loss_fn = torch.nn.MSELoss()\n",
    "\n",
    "for snapshot in train_dataset:\n",
    "    static_edge_index = snapshot.edge_index.to(DEVICE)\n",
    "    break;\n",
    "\n",
    "model.train()\n",
    "\n",
    "for epoch in range(100):\n",
    "    step = 0\n",
    "    loss_list = []\n",
    "    for encoder_inputs, labels in train_loader:\n",
    "        y_hat = model(encoder_inputs, static_edge_index)         # Get model predictions\n",
    "        loss = loss_fn(y_hat, labels) # Mean squared error #loss = torch.mean((y_hat-labels)**2)  sqrt to change it to rmse\n",
    "        loss.backward()\n",
    "        optimizer.step()\n",
    "        optimizer.zero_grad()\n",
    "        step = step+ 1\n",
    "        loss_list.append(loss.item())\n",
    "        if step % 100 == 0 :\n",
    "            print(sum(loss_list)/len(loss_list))\n",
    "    print(\"Epoch {} train RMSE: {:.4f}\".format(epoch, sum(loss_list)/len(loss_list)))\n",
    "\n",
    "model.eval()\n",
    "step = 0\n",
    "# Store for analysis\n",
    "total_loss = []\n",
    "true = []\n",
    "fore = []\n",
    "for encoder_inputs, labels in test_loader:\n",
    "    # Get model predictions\n",
    "    y_hat = model(encoder_inputs, static_edge_index)\n",
    "    # Mean squared error\n",
    "    loss = loss_fn(y_hat, labels)\n",
    "    total_loss.append(loss.item())\n",
    "    fore.append(y_hat.detach().cpu().numpy())\n",
    "    true.append(labels.detach().cpu().numpy())\n",
    "    # Store for analysis below\n",
    "    # test_labels.append(labels)\n",
    "    # predictions.append(y_hat)\n",
    "\n",
    "print(\"Test MSE: {:.4f}\".format(sum(total_loss) / len(total_loss)))"
   ]
  },
  {
   "cell_type": "code",
   "execution_count": 20,
   "id": "b4461d38",
   "metadata": {},
   "outputs": [
    {
     "data": {
      "text/plain": [
       "[<matplotlib.lines.Line2D at 0x1bf29bc4448>]"
      ]
     },
     "execution_count": 20,
     "metadata": {},
     "output_type": "execute_result"
    },
    {
     "data": {
      "image/png": "[encoded data removed]",
      "text/plain": [
       "<Figure size 432x288 with 1 Axes>"
      ]
     },
     "metadata": {
      "needs_background": "light"
     },
     "output_type": "display_data"
    }
   ],
   "source": [
    "import matplotlib.pyplot as plt\n",
    "import matplotlib\n",
    "%matplotlib inline\n",
    "\n",
    "\n",
    "plt.plot(labels[0].flatten())\n",
    "plt.plot((y_hat.detach().numpy())[0].flatten())\n"
   ]
  },
  {
   "cell_type": "code",
   "execution_count": null,
   "id": "a9fd6f71",
   "metadata": {},
   "outputs": [],
   "source": []
  }
 ],
 "metadata": {
  "kernelspec": {
   "display_name": "Python 3 (ipykernel)",
   "language": "python",
   "name": "python3"
  },
  "language_info": {
   "codemirror_mode": {
    "name": "ipython",
    "version": 3
   },
   "file_extension": ".py",
   "mimetype": "text/x-python",
   "name": "python",
   "nbconvert_exporter": "python",
   "pygments_lexer": "ipython3",
   "version": "3.7.11"
  }
 },
 "nbformat": 4,
 "nbformat_minor": 5
}
